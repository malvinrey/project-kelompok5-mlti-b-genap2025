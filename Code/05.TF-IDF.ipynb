{
  "nbformat": 4,
  "nbformat_minor": 0,
  "metadata": {
    "colab": {
      "provenance": []
    },
    "kernelspec": {
      "name": "python3",
      "display_name": "Python 3"
    },
    "language_info": {
      "name": "python"
    }
  },
  "cells": [
    {
      "cell_type": "code",
      "execution_count": null,
      "metadata": {
        "colab": {
          "base_uri": "https://localhost:8080/",
          "height": 1000
        },
        "id": "8CMDW93u-0WK",
        "outputId": "d76473d6-a117-4c34-bcf2-1955757364d1"
      },
      "outputs": [
        {
          "output_type": "stream",
          "name": "stderr",
          "text": [
            "[nltk_data] Downloading package punkt to /root/nltk_data...\n",
            "[nltk_data]   Unzipping tokenizers/punkt.zip.\n",
            "[nltk_data] Downloading package punkt_tab to /root/nltk_data...\n",
            "[nltk_data]   Unzipping tokenizers/punkt_tab.zip.\n"
          ]
        },
        {
          "output_type": "stream",
          "name": "stdout",
          "text": [
            "Parameter terbaik: {'multinomialnb__alpha': 0.1, 'tfidfvectorizer__max_features': 5000}\n",
            "Skor terbaik: 0.81\n",
            "\n",
            "Akurasi Model pada Test Set: 0.85\n",
            "\n",
            "Laporan Klasifikasi:\n",
            "              precision    recall  f1-score   support\n",
            "\n",
            "     Negatif       0.81      0.85      0.83        20\n",
            "      Netral       0.84      0.80      0.82        20\n",
            "     Positif       0.90      0.90      0.90        20\n",
            "\n",
            "    accuracy                           0.85        60\n",
            "   macro avg       0.85      0.85      0.85        60\n",
            "weighted avg       0.85      0.85      0.85        60\n",
            "\n",
            "\n",
            "Teks: 'Proyek IKN berkembang pesat dengan dukungan pemerintah'\n",
            "Kategori Prediksi: Netral\n",
            "\n",
            "Teks: 'Kontroversi kebijakan IKN memicu debat publik'\n",
            "Kategori Prediksi: Netral\n"
          ]
        },
        {
          "output_type": "stream",
          "name": "stderr",
          "text": [
            "<ipython-input-13-f9a1607ead41>:104: FutureWarning: \n",
            "\n",
            "Passing `palette` without assigning `hue` is deprecated and will be removed in v0.14.0. Assign the `x` variable to `hue` and set `legend=False` for the same effect.\n",
            "\n",
            "  sns.countplot(x='label', data=df, palette='viridis')\n"
          ]
        },
        {
          "output_type": "display_data",
          "data": {
            "text/plain": [
              "<Figure size 800x600 with 1 Axes>"
            ],
            "image/png": "[encoded data removed]"
          },
          "metadata": {}
        }
      ],
      "source": [
        "# Install required packages\n",
        "!pip uninstall nltk -y -q\n",
        "!pip install pandas numpy nltk Sastrawi wordcloud seaborn matplotlib scikit-learn -q\n",
        "\n",
        "import pandas as pd\n",
        "import numpy as np\n",
        "import re\n",
        "import logging\n",
        "from nltk.tokenize import word_tokenize\n",
        "import nltk\n",
        "from Sastrawi.StopWordRemover.StopWordRemoverFactory import StopWordRemoverFactory\n",
        "from Sastrawi.Stemmer.StemmerFactory import StemmerFactory\n",
        "from collections import Counter\n",
        "import seaborn as sns\n",
        "import matplotlib.pyplot as plt\n",
        "from wordcloud import WordCloud\n",
        "from sklearn.feature_extraction.text import TfidfVectorizer\n",
        "from sklearn.naive_bayes import MultinomialNB\n",
        "from sklearn.pipeline import make_pipeline\n",
        "from sklearn.model_selection import train_test_split, GridSearchCV\n",
        "from sklearn.metrics import accuracy_score, classification_report\n",
        "\n",
        "# Clear NLTK data and reinstall\n",
        "import shutil\n",
        "import os\n",
        "for path in nltk.data.path:\n",
        "    if os.path.exists(path):\n",
        "        shutil.rmtree(path, ignore_errors=True)\n",
        "\n",
        "nltk.download('punkt')\n",
        "nltk.download('punkt_tab')\n",
        "\n",
        "# Inisialisasi logging\n",
        "logging.basicConfig(level=logging.INFO, format='%(asctime)s - %(levelname)s - %(message)s')\n",
        "logger = logging.getLogger(__name__)\n",
        "\n",
        "# Load data preprocessed\n",
        "try:\n",
        "    df = pd.read_csv('ikn_news_preprocessed_final.csv')  # Perbaikan: Ganti file dan tambah tanda kutip penutup\n",
        "    logger.info(\"Berhasil memuat file ikn_news_preprocessed_final.csv\")\n",
        "except FileNotFoundError:\n",
        "    logger.error(\"ikn_news_preprocessed_final.csv tidak ditemukan.\")\n",
        "    raise\n",
        "\n",
        "# Pastikan kolom yang diperlukan ada\n",
        "required_columns = ['filtered_content', 'label']  # Gunakan filtered_content yang sudah dipreproses\n",
        "if not all(col in df.columns for col in required_columns):\n",
        "    missing_cols = [col for col in required_columns if col not in df.columns]\n",
        "    logger.error(f\"Kolom yang hilang: {missing_cols}\")\n",
        "    raise ValueError(f\"DataFrame tidak memiliki kolom yang diperlukan: {missing_cols}\")\n",
        "\n",
        "# Pisahkan fitur (teks) dan label\n",
        "X = df['filtered_content'].fillna('')  # Gunakan filtered_content sebagai input\n",
        "y = df['label']\n",
        "\n",
        "# Bagi data menjadi train dan test set\n",
        "X_train, X_test, y_train, y_test = train_test_split(X, y, test_size=0.2, random_state=42, stratify=y)\n",
        "\n",
        "# Definisikan pipeline dengan TF-IDF dan MultinomialNB\n",
        "pipeline_nb = make_pipeline(\n",
        "    TfidfVectorizer(\n",
        "        stop_words=['yang', 'dan', 'di', 'dengan', 'untuk', 'pada', 'ini', 'dari', 'ke', 'dalam', 'tersebut', 'adalah', 'oleh'],\n",
        "        max_features=5000,\n",
        "        ngram_range=(1, 2)  # Tambahkan bigram untuk konteks lebih baik\n",
        "    ),\n",
        "    MultinomialNB()\n",
        ")\n",
        "\n",
        "# Definisikan parameter grid untuk tuning\n",
        "param_grid = {\n",
        "    'tfidfvectorizer__max_features': [3000, 5000, 7000],\n",
        "    'multinomialnb__alpha': [0.1, 0.5, 1.0]\n",
        "}\n",
        "\n",
        "# Lakukan GridSearchCV untuk menemukan parameter terbaik\n",
        "grid_search = GridSearchCV(pipeline_nb, param_grid, cv=5, scoring='accuracy', n_jobs=-1)\n",
        "grid_search.fit(X_train, y_train)\n",
        "\n",
        "# Cetak parameter terbaik\n",
        "print(f\"Parameter terbaik: {grid_search.best_params_}\")\n",
        "print(f\"Skor terbaik: {grid_search.best_score_:.2f}\")\n",
        "\n",
        "# Evaluasi model terbaik\n",
        "y_pred = grid_search.predict(X_test)\n",
        "accuracy = accuracy_score(y_test, y_pred)\n",
        "print(f\"\\nAkurasi Model pada Test Set: {accuracy:.2f}\")\n",
        "print(\"\\nLaporan Klasifikasi:\")\n",
        "print(classification_report(y_test, y_pred))\n",
        "\n",
        "# Prediksi teks baru\n",
        "new_texts = [\n",
        "    \"Proyek IKN berkembang pesat dengan dukungan pemerintah\",\n",
        "    \"Kontroversi kebijakan IKN memicu debat publik\"\n",
        "]\n",
        "predictions = grid_search.predict(new_texts)\n",
        "\n",
        "# Menampilkan hasil prediksi\n",
        "for text, pred in zip(new_texts, predictions):\n",
        "    print(f\"\\nTeks: '{text}'\")\n",
        "    print(f\"Kategori Prediksi: {pred}\")\n",
        "\n",
        "# Visualisasi distribusi label\n",
        "plt.figure(figsize=(8, 6))\n",
        "sns.countplot(x='label', data=df, palette='viridis')\n",
        "plt.title('Distribusi Label', fontsize=16)\n",
        "plt.xlabel('Label', fontsize=14)\n",
        "plt.ylabel('Jumlah Data', fontsize=14)\n",
        "plt.tight_layout()\n",
        "plt.savefig('label_distribution.png')\n",
        "plt.show()"
      ]
    }
  ]
}